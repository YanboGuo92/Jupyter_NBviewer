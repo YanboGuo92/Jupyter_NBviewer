{
 "cells": [
  {
   "cell_type": "code",
   "execution_count": 1,
   "metadata": {},
   "outputs": [],
   "source": [
    "import numpy as np\n",
    "np.random.seed(0)"
   ]
  },
  {
   "cell_type": "markdown",
   "metadata": {},
   "source": [
    "### check the shape of a matrix"
   ]
  },
  {
   "cell_type": "code",
   "execution_count": 12,
   "metadata": {},
   "outputs": [
    {
     "data": {
      "text/plain": [
       "array([[0, 1, 2],\n",
       "       [3, 4, 5],\n",
       "       [6, 7, 8]])"
      ]
     },
     "execution_count": 12,
     "metadata": {},
     "output_type": "execute_result"
    }
   ],
   "source": [
    "A = np.arange(9).reshape(3,3)\n",
    "A\n"
   ]
  },
  {
   "cell_type": "code",
   "execution_count": 6,
   "metadata": {},
   "outputs": [
    {
     "data": {
      "text/plain": [
       "array([[1.],\n",
       "       [1.],\n",
       "       [1.]])"
      ]
     },
     "execution_count": 6,
     "metadata": {},
     "output_type": "execute_result"
    }
   ],
   "source": [
    "b = np.ones((3,1))\n",
    "b"
   ]
  },
  {
   "cell_type": "code",
   "execution_count": 7,
   "metadata": {},
   "outputs": [
    {
     "data": {
      "text/plain": [
       "array([[1., 0., 1., 2.],\n",
       "       [1., 3., 4., 5.],\n",
       "       [1., 6., 7., 8.]])"
      ]
     },
     "execution_count": 7,
     "metadata": {},
     "output_type": "execute_result"
    }
   ],
   "source": [
    "C = np.hstack((b,A))\n",
    "C"
   ]
  },
  {
   "cell_type": "code",
   "execution_count": 18,
   "metadata": {},
   "outputs": [
    {
     "data": {
      "text/plain": [
       "3"
      ]
     },
     "execution_count": 18,
     "metadata": {},
     "output_type": "execute_result"
    }
   ],
   "source": [
    "C.shape"
   ]
  },
  {
   "cell_type": "markdown",
   "metadata": {},
   "source": [
    "### 1D array VS 2D array"
   ]
  },
  {
   "cell_type": "code",
   "execution_count": 8,
   "metadata": {},
   "outputs": [],
   "source": [
    "a = np.array([1,2,3])\n",
    "b = np.array([[1,2,3]])"
   ]
  },
  {
   "cell_type": "code",
   "execution_count": 9,
   "metadata": {},
   "outputs": [
    {
     "name": "stdout",
     "output_type": "stream",
     "text": [
      "(3,)\n",
      "(1, 3)\n"
     ]
    }
   ],
   "source": [
    "print(a.shape)\n",
    "print(b.shape)"
   ]
  },
  {
   "cell_type": "code",
   "execution_count": 11,
   "metadata": {},
   "outputs": [
    {
     "name": "stdout",
     "output_type": "stream",
     "text": [
      "(3,)\n",
      "(3, 1)\n"
     ]
    }
   ],
   "source": [
    "b1 = b.flatten()\n",
    "print(b1.shape)\n",
    "a1 = a[:,np.newaxis]\n",
    "print(a1.shape)"
   ]
  },
  {
   "cell_type": "markdown",
   "metadata": {},
   "source": [
    "### vectorization ------white board example"
   ]
  },
  {
   "cell_type": "code",
   "execution_count": null,
   "metadata": {},
   "outputs": [],
   "source": []
  },
  {
   "cell_type": "markdown",
   "metadata": {},
   "source": [
    "This notebook is for showing the different operations that can be performed using Numpy - a fundamental package for scientific computing with Python.\n",
    "\n",
    "## Contents\n",
    "\n",
    "+ <a href='#section_1'>Array Creation</a>\n",
    "    - <a href='#section_1.1'>Rank-1 (1D) array [np.array(), np.random.randn(), np.random.randint(), np.arange()] </a>\n",
    "    - <a href='#section_1.2'>Rank-2 (2D) array [np.array(), np.random.rand(), np.random.random(), np.random.randn(), random.randint(), np.arange(), np.zeros(), np.ones(), np.full(), np.empty(), np.arange().reshape()] </a>\n",
    "+ <a href='#section_2'>Array Indexing</a>\n",
    "    - <a href='#section_2.1'>Basics</a>\n",
    "    - <a href='#section_2.2'>np.tril_indices</a>\n",
    "    - <a href='#section_2.3'>np.triu_indices</a>\n",
    "+ <a href='#section_3'>Broadcasting</a>\n",
    "+ <a href='#section_4'>Array Arithmetic </a>\n",
    "    - <a href='#section_4.1'>Elementwise operations on arrays [np.add(), np.subtract(), np.multiply(), np.divide(), np.sqrt(), np.sum(), np.diff(), np.mean(), np.log()]</a>\n",
    "    - <a href='#section_4.2'>Matrix-Matrix and Matrix-Vector multiplication [np.dot()]</a>\n",
    "    - <a href='#section_4.3'>Computation on arrays [np.sum(), np.transpose(), np.diff(), np.mean()]</a>\n",
    "    - <a href='#section_4.4'>Padding [np.pad()]</a>\n",
    "    - <a href='#section_4.5'>Clipping elements of an array [clip()]</a>\n",
    "    - <a href='#section_4.6'>Flattening of an array [ravel(), reshape(), flatten(), flat()]</a>\n",
    "    - <a href='#section_4.7'>any() vs all()</a>\n",
    "    - <a href='#section_4.8'>Array Manipulation [vstack(), hstack()]</a>\n",
    "+ <a href='#section_5'>Constants [np.inf, np.nan]</a>\n",
    "+ <a href='#section_6'>Linear algebra [np.linalg.det, np.linalg.solve, np.linalg.pinv, np.linalg.inv, np.linalg.eig, np.linalg.svd]</a>"
   ]
  },
  {
   "cell_type": "code",
   "execution_count": 1,
   "metadata": {},
   "outputs": [],
   "source": [
    "import numpy as np\n",
    "np.random.seed(0)"
   ]
  },
  {
   "cell_type": "markdown",
   "metadata": {},
   "source": [
    "<a id=\"section_1\"></a>\n",
    "\n",
    "## Array Creation\n",
    "\n",
    "Array creation in numpy is pretty useful in almost every scientific computation."
   ]
  },
  {
   "cell_type": "markdown",
   "metadata": {},
   "source": [
    "<a id=\"section_1.1\"></a>\n",
    "\n",
    "### Rank-1 (1D) array"
   ]
  },
  {
   "cell_type": "markdown",
   "metadata": {},
   "source": [
    "`numpy.random.random` is actually an alias for `numpy.random.random_sample`\n",
    "\n",
    "With `numpy.random.rand`, the shapes of the output array are separate arguments. With `numpy.random.random_sample`, the shape argument is a single tuple."
   ]
  },
  {
   "cell_type": "code",
   "execution_count": 3,
   "metadata": {},
   "outputs": [
    {
     "name": "stdout",
     "output_type": "stream",
     "text": [
      "[1 0 1]\n",
      "(3,)\n",
      "\n",
      "<class 'numpy.ndarray'>\n",
      "\n",
      "[-0.97727788  0.44386323  0.33367433  1.49407907 -0.20515826]\n",
      "\n",
      "[0 1 0 1 1 1 1 0 1 0]\n",
      "\n",
      "[0 0 0 0 0 0 0 0 0 0]\n",
      "\n",
      "[0 1 2 3 4 5 6 7]\n"
     ]
    }
   ],
   "source": [
    "#Creates a rank-1 array (1D array) -> neither a row vector or column vector\n",
    "v1 = np.array([1, 0, 1])\n",
    "print(v1)        # [1,0,1]\n",
    "print(v1.shape)  # (3,)\n",
    "\n",
    "#Create a rank-1 array (1D array) (rank is the number of dimensions) \n",
    "print()\n",
    "arr1 = np.array([1,2,3])\n",
    "#Getting the class of created array\n",
    "print(type(arr1))  # <class 'numpy.ndarray'>\n",
    "\n",
    "#Creates a rank-1 array of five random gaussian variables\n",
    "print()\n",
    "print(np.random.randn(5))   # [-2.55298982  0.6536186   0.8644362  -0.74216502  2.26975462]\n",
    "\n",
    "#Create a rank-1 array of random integers between 0 and 1, inclusive \n",
    "print()\n",
    "print(np.random.randint(5,10, size=10))  # [1 1 1 1 1 0 1 1 0 0]\n",
    "\n",
    "#Create a rank-1 array of random integers between 0 and 1, exclusive\n",
    "print()\n",
    "print(np.random.randint(1, size=10))  # [0 0 0 0 0 0 0 0 0 0]\n",
    "\n",
    "#Another way to create rank-1 array with sequence of numbers\n",
    "print()\n",
    "print(np.arange(8))   # [0 1 2 3 4 5 6 7]"
   ]
  },
  {
   "cell_type": "markdown",
   "metadata": {},
   "source": [
    "<a id=\"section_1.2\"></a>\n",
    "\n",
    "### Rank-2 (2D) array"
   ]
  },
  {
   "cell_type": "code",
   "execution_count": 13,
   "metadata": {},
   "outputs": [
    {
     "name": "stdout",
     "output_type": "stream",
     "text": [
      "\n",
      "(3, 1)\n",
      "\n",
      "3\n",
      "\n",
      "1\n",
      "[[0.5488135  0.71518937 0.60276338 0.54488318]\n",
      " [0.4236548  0.64589411 0.43758721 0.891773  ]\n",
      " [0.96366276 0.38344152 0.79172504 0.52889492]]\n",
      "\n",
      "[[0.56804456 0.92559664]\n",
      " [0.07103606 0.0871293 ]]\n",
      "\n",
      "[[0.0202184  0.83261985 0.77815675 0.87001215]\n",
      " [0.97861834 0.79915856 0.46147936 0.78052918]\n",
      " [0.11827443 0.63992102 0.14335329 0.94466892]]\n",
      "[[-3.38247454  4.63404649  5.1610905   1.14458745]\n",
      " [ 8.67438656 -0.63591419  3.11439629  2.53204037]]\n",
      "\n",
      "[[0 4 1 4]\n",
      " [1 2 2 0]]\n",
      "\n",
      "[[ 1  2  3  4]\n",
      " [ 5  6  7  8]\n",
      " [ 9 10 11 12]]\n",
      "\n",
      "[[0. 0.]\n",
      " [0. 0.]]\n",
      "\n",
      "[[1. 1.]\n",
      " [1. 1.]]\n",
      "\n",
      "[[5 5]\n",
      " [5 5]]\n",
      "\n",
      "[[0 1 2]\n",
      " [3 4 5]]\n",
      "\n",
      "[[0 0 0]\n",
      " [0 0 0]]\n",
      "\n",
      "[[1 1 1]\n",
      " [1 1 1]]\n",
      "\n",
      "\n",
      "[[1. 0.]\n",
      " [0. 1.]]\n",
      "[[1 0 0]\n",
      " [0 2 0]\n",
      " [0 0 3]]\n",
      "\n",
      "[[0 1]\n",
      " [2 3]\n",
      " [4 5]\n",
      " [6 7]]\n"
     ]
    }
   ],
   "source": [
    "#Creates column vector (many rows, one column) -> [[e1], [e2], [e3]]\n",
    "print()\n",
    "v2 = np.array([[1], [0], [1]])\n",
    "print(v2.shape)  # (1,3)\n",
    "\n",
    "#Getting number of rows of an array\n",
    "print()\n",
    "print(v2.shape[0]) # 3\n",
    "\n",
    "#Getting number of columns of columns of an array\n",
    "print()\n",
    "print(v2.shape[1]) # 1\n",
    "\n",
    "#Creates array (3x4) of random numbers with size 3 rows and 4 columns \n",
    "arr1 = np.random.rand(3,4)\n",
    "print(arr1)  # [[ 0.5488135 ,  0.71518937,  0.60276338,  0.54488318],\n",
    "             #  [ 0.4236548 ,  0.64589411,  0.43758721,  0.891773  ],\n",
    "             #  [ 0.96366276,  0.38344152,  0.79172504,  0.52889492]]\n",
    "\n",
    "\n",
    "#Creates array (2x2) with random values\n",
    "print()\n",
    "rand_array = np.random.random((2,2))\n",
    "print(rand_array)  # [[ 0.56804456  0.92559664]\n",
    "                   #  [ 0.07103606  0.0871293 ]]\n",
    "\n",
    "       \n",
    "#Creates array (3x4) with random values\n",
    "print() \n",
    "rand_array = np.random.random((3,4))\n",
    "print(rand_array)  # [[ 0.0202184   0.83261985  0.77815675  0.87001215]\n",
    "                   #  [ 0.97861834  0.79915856  0.46147936  0.78052918]\n",
    "                   #  [ 0.11827443  0.63992102  0.14335329  0.94466892]]\n",
    "\n",
    "\n",
    "#Creates 2x4 array of samples from N(3, 6.25)\n",
    "print(2.5 * np.random.randn(2, 4) + 3)  # [[ 0.30430499  6.48868068  7.46871011  1.57620684]\n",
    "                                        #  [ 3.43846633  1.84373615  0.28549851  4.59933999]]\n",
    "\n",
    "\n",
    "#Creates 2x4 array of ints between 0 and 4, inclusive\n",
    "print()\n",
    "print(np.random.randint(5, size=(2, 4)))  # [[3 0 3 4]\n",
    "                                          #  [1 2 4 3]]\n",
    "\n",
    "\n",
    "#Creates rank-2 array (3x4) (2D array) -> [[row0],[row1],[row2]]\n",
    "print()\n",
    "arr2 = np.array([[1,2,3,4], [5,6,7,8], [9,10,11,12]])\n",
    "print(arr2)  #  [[ 1  2  3  4]\n",
    "             #   [ 5  6  7  8]\n",
    "             #   [ 9 10 11 12]]\n",
    "\n",
    "#Creates array (3x4) of zeros \n",
    "print()\n",
    "x_zeros = np.zeros((2,2))\n",
    "print(x_zeros)  # [[ 0.  0.]\n",
    "                #  [ 0.  0.]]\n",
    "\n",
    "#Creates array (2x2) of ones\n",
    "print()\n",
    "x_ones = np.ones((2,2))\n",
    "print(x_ones)   # [[ 1.  1.]\n",
    "                #  [ 1.  1.]]\n",
    "\n",
    "#Creates constant array (2x2) of a specified value\n",
    "print()\n",
    "cons = np.full((2,2), 5)\n",
    "print(cons)   # [[5 5]\n",
    "              #  [5 5]]\n",
    "\n",
    "\n",
    "\n",
    "#creates new array of zeros/ones like the shape and type of input array\n",
    "print()\n",
    "x = np.arange(6).reshape((2, 3))\n",
    "print(x)  # [[0 1 2]\n",
    "          #  [3 4 5]]\n",
    "print()\n",
    "print(np.zeros_like(x))  # [[0 0 0]\n",
    "                         #  [0 0 0]]\n",
    "print()\n",
    "print(np.ones_like(x)) # [[1 1 1]\n",
    "                       #  [1 1 1]]   \n",
    "    \n",
    "#Creates identity matrix (2x2)\n",
    "print()\n",
    "ident = np.eye(2)\n",
    "\n",
    "print()\n",
    "print(ident)  # [[ 1.  0.]\n",
    "              #  [ 0.  1.]]\n",
    "    \n",
    "diag = np.diag([1,2,3])\n",
    "print(diag)  #[[1 0 0]\n",
    "             #[0 2 0]\n",
    "             #[0 0 3]]\n",
    "\n",
    "\n",
    "#Method to create a 2D array from 1D (rank-1) array\n",
    "print()\n",
    "print(np.arange(8).reshape(4,2))   # [[0 1]\n",
    "                                   #  [2 3]\n",
    "                                   #  [4 5]\n",
    "                                   #  [6 7]]"
   ]
  },
  {
   "cell_type": "markdown",
   "metadata": {},
   "source": [
    "<a id=\"section_2\"></a>\n",
    "\n",
    "## Array indexing"
   ]
  },
  {
   "cell_type": "markdown",
   "metadata": {},
   "source": [
    "<a id=\"section_2.1\"></a>\n",
    "\n",
    "### Basics"
   ]
  },
  {
   "cell_type": "code",
   "execution_count": 16,
   "metadata": {},
   "outputs": [
    {
     "name": "stdout",
     "output_type": "stream",
     "text": [
      "[[ 1  2  3  4]\n",
      " [ 5  6  7  8]\n",
      " [ 9 10 11 12]]\n"
     ]
    },
    {
     "data": {
      "text/plain": [
       "array([[  1, 999,   3,   4],\n",
       "       [  5,   6, 999,   8],\n",
       "       [  9, 999,  11,  12]])"
      ]
     },
     "execution_count": 16,
     "metadata": {},
     "output_type": "execute_result"
    }
   ],
   "source": [
    "#Creates an rank-2 array (2D array) -> [[row0],[row1],[row2]]\n",
    "arr2 = np.array([[1,2,3,4], [5,6,7,8], [9,10,11,12]])\n",
    "print(arr2)    # [[ 1  2  3  4]\n",
    "               #  [ 5  6  7  8]\n",
    "               #  [ 9 10 11 12]]\n",
    "\n",
    "arr2[[0,1,2],[1,2,1]] = 999\n",
    "arr2\n"
   ]
  },
  {
   "cell_type": "code",
   "execution_count": 6,
   "metadata": {},
   "outputs": [
    {
     "name": "stdout",
     "output_type": "stream",
     "text": [
      "[[ 0  1  2  3]\n",
      " [ 4  5  6  7]\n",
      " [ 8  9 10 11]\n",
      " [12 13 14 15]]\n",
      "\n",
      "(array([0, 1, 1, 2, 2, 2, 3, 3, 3, 3]), array([0, 0, 1, 0, 1, 2, 0, 1, 2, 3]))\n",
      "\n",
      "(array([0, 0, 0, 1, 1, 1, 1, 2, 2, 2, 2, 3, 3, 3, 3]), array([0, 1, 2, 0, 1, 2, 3, 0, 1, 2, 3, 0, 1, 2, 3]))\n"
     ]
    }
   ],
   "source": [
    "\n",
    "a = np.arange(16).reshape(4, 4)\n",
    "print(a) # [[ 0  1  2  3]\n",
    "         #  [ 4  5  6  7]\n",
    "         #  [ 8  9 10 11]\n",
    "         #  [12 13 14 15]]\n",
    "\n",
    "print()\n",
    "\n",
    "# Compute two different sets of indices to access 4x4 arrays, one for the lower triangular part starting at the main diagonal\n",
    "il1 = np.tril_indices(4)\n",
    "print(il1)\n",
    "\n",
    "\n",
    "# and one starting two diagonals further right:\n",
    "il2 = np.tril_indices(4, k = 2)\n",
    "print(il2)"
   ]
  },
  {
   "cell_type": "code",
   "execution_count": 7,
   "metadata": {},
   "outputs": [
    {
     "name": "stdout",
     "output_type": "stream",
     "text": [
      "[ 0  4  5  8  9 10 12 13 14 15]\n",
      "\n",
      "[ 0  1  2  4  5  6  7  8  9 10 11 12 13 14 15]\n"
     ]
    }
   ],
   "source": [
    "# for indexing\n",
    "print(a[il1])\n",
    "\n",
    "\n",
    "print(a[il2])"
   ]
  },
  {
   "cell_type": "code",
   "execution_count": 53,
   "metadata": {},
   "outputs": [
    {
     "name": "stdout",
     "output_type": "stream",
     "text": [
      "[[-1  1  2  3]\n",
      " [-1 -1  6  7]\n",
      " [-1 -1 -1 11]\n",
      " [-1 -1 -1 -1]]\n"
     ]
    }
   ],
   "source": [
    "# for assigning values\n",
    "a[il1] = -1\n",
    "print(a)"
   ]
  },
  {
   "cell_type": "markdown",
   "metadata": {},
   "source": [
    "<a id=\"section_2.3\"></a>\n",
    "\n",
    "See [np.triu_indices()](https://docs.scipy.org/doc/numpy-1.15.1/reference/generated/numpy.triu_indices.html#numpy.triu_indices)\n",
    "\n",
    "Return the indices for the upper-triangle of an (n, m) array"
   ]
  },
  {
   "cell_type": "code",
   "execution_count": 54,
   "metadata": {},
   "outputs": [
    {
     "name": "stdout",
     "output_type": "stream",
     "text": [
      "[[ 0  1  2  3]\n",
      " [ 4  5  6  7]\n",
      " [ 8  9 10 11]\n",
      " [12 13 14 15]]\n",
      "\n",
      "(array([0, 0, 0, 0, 1, 1, 1, 2, 2, 3]), array([0, 1, 2, 3, 1, 2, 3, 2, 3, 3]))\n",
      "\n",
      "(array([0, 0, 1]), array([2, 3, 3]))\n"
     ]
    }
   ],
   "source": [
    "a = np.arange(16).reshape(4, 4)\n",
    "print(a)\n",
    "print()\n",
    "\n",
    "# Compute two different sets of indices to access 4x4 arrays, one for the upper triangular part starting at the main diagonal,\n",
    "iu1 = np.triu_indices(4)\n",
    "print(iu1)\n",
    "print()\n",
    "\n",
    "# and one starting two diagonals further right:\n",
    "iu2 = np.triu_indices(4, k = 2)\n",
    "print(iu2)"
   ]
  },
  {
   "cell_type": "code",
   "execution_count": 55,
   "metadata": {},
   "outputs": [
    {
     "name": "stdout",
     "output_type": "stream",
     "text": [
      "[ 0  1  2  3  5  6  7 10 11 15]\n",
      "\n",
      "[[-1 -1 -1 -1]\n",
      " [ 4 -1 -1 -1]\n",
      " [ 8  9 -1 -1]\n",
      " [12 13 14 -1]]\n"
     ]
    }
   ],
   "source": [
    "# Both for indexing\n",
    "print(a[iu1])\n",
    "print()\n",
    "\n",
    "# And for assigning values\n",
    "a[iu1] = -1\n",
    "print(a)"
   ]
  },
  {
   "cell_type": "markdown",
   "metadata": {},
   "source": [
    "<a id=\"section_3\"></a>\n",
    "\n",
    "## Broadcasting\n",
    "\n",
    "Broadcasting is a mechanism provided by numpy that allows to perform arithmetic operations with arrays of different shapes.\n",
    "\n",
    "The term broadcasting describes how numpy treats arrays with different shapes during arithmetic operations. Subject to certain constraints, the smaller array is “broadcast” across the larger array so that they have compatible shapes."
   ]
  },
  {
   "cell_type": "code",
   "execution_count": 12,
   "metadata": {},
   "outputs": [
    {
     "name": "stdout",
     "output_type": "stream",
     "text": [
      "[[ 1  2  3]\n",
      " [ 4  5  6]\n",
      " [ 7  8  9]\n",
      " [10 11 12]]\n",
      "\n",
      "[[ 2  2  4]\n",
      " [ 5  5  7]\n",
      " [ 8  8 10]\n",
      " [11 11 13]]\n"
     ]
    }
   ],
   "source": [
    "arr = np.array([[1,2,3], [4,5,6], [7,8,9], [10, 11, 12]])\n",
    "vec = np.array([1, 0, 1])\n",
    "y = arr + vec  # Add vec to each row of arr using broadcasting\n",
    "print(arr)\n",
    "print()\n",
    "print(y) # [[ 2  2  4]\n",
    "         #  [ 5  5  7]\n",
    "         #  [ 8  8 10]\n",
    "         #  [11 11 13]]"
   ]
  },
  {
   "cell_type": "markdown",
   "metadata": {},
   "source": [
    "<a id=\"section_4\"></a>\n",
    "\n",
    "## Array arithmetic"
   ]
  },
  {
   "cell_type": "markdown",
   "metadata": {},
   "source": [
    "<a id=\"section_4.1\"></a>\n",
    "\n",
    "### Elementwise operations on arrays"
   ]
  },
  {
   "cell_type": "code",
   "execution_count": 13,
   "metadata": {},
   "outputs": [
    {
     "name": "stdout",
     "output_type": "stream",
     "text": [
      "[[1. 2.]\n",
      " [3. 4.]]\n",
      "[[5. 6.]\n",
      " [7. 8.]]\n",
      "\n",
      "[[ 6.  8.]\n",
      " [10. 12.]]\n",
      "\n",
      "[[-4. -4.]\n",
      " [-4. -4.]]\n",
      "\n",
      "[[ 5. 12.]\n",
      " [21. 32.]]\n",
      "\n",
      "[[0.2        0.33333333]\n",
      " [0.42857143 0.5       ]]\n",
      "\n",
      "[[1.         1.41421356]\n",
      " [1.73205081 2.        ]]\n",
      "\n",
      "[[0.         0.69314718]\n",
      " [1.09861229 1.38629436]]\n",
      "\n",
      "[[0.69314718 1.09861229]\n",
      " [1.38629436 1.60943791]]\n",
      "\n",
      "[[ 2.71828183  7.3890561 ]\n",
      " [20.08553692 54.59815003]]\n"
     ]
    }
   ],
   "source": [
    "x = np.array([[1,2],[3,4]], dtype=np.float64)\n",
    "print(x) # [[ 1.  2.]\n",
    "         #  [ 3.  4.]]\n",
    "\n",
    "y = np.array([[5,6],[7,8]], dtype=np.float64)\n",
    "print(y)  # [[ 5.  6.]\n",
    "          # [ 7.  8.]]\n",
    "\n",
    "#Elementwise sum\n",
    "print()\n",
    "print(np.add(x,y))  #same as -> x + y    # [[  6.   8.]\n",
    "                                         #  [ 10.  12.]]\n",
    "\n",
    "#Elementwise substraction\n",
    "print()\n",
    "print(np.subtract(x, y)) #same as -> x - y  # [[-4. -4.]\n",
    "                                            #  [-4. -4.]]\n",
    "\n",
    "#Elementwise multiplication\n",
    "print()\n",
    "print(np.multiply(x, y)) #same as -> x * y  # [[  5.  12.]\n",
    "                                            #  [ 21.  32.]]\n",
    "\n",
    "#Elementwise division\n",
    "print()\n",
    "print(np.divide(x,y))  #same as -> x / y   # [[ 0.2         0.33333333]\n",
    "                                           #  [ 0.42857143  0.5       ]]\n",
    "\n",
    "#Elementwise square root\n",
    "print()\n",
    "print(np.sqrt(x))   # [[ 1.          1.41421356]\n",
    "                    #  [ 1.73205081  2.        ]]\n",
    "\n",
    "print()\n",
    "\n",
    "#Elementwise natural log (base-e)\n",
    "print(np.log(x))  # [[ 0.          0.69314718]\n",
    "                  #  [ 1.09861229  1.38629436]]\n",
    "    \n",
    "print()\n",
    "\n",
    "#Elementwise natural log of one plus the input array\n",
    "print(np.log1p(x))  #[[ 0.69314718  1.09861229]\n",
    "                    # [ 1.38629436  1.60943791]]\n",
    "print()\n",
    "\n",
    "# Elementwise exponential \n",
    "print(np.exp(x))"
   ]
  },
  {
   "cell_type": "markdown",
   "metadata": {},
   "source": [
    "<a id=\"section_4.2\"></a>\n",
    "\n",
    "### Matrix-Matrix  and Matrix-Vector multiplication"
   ]
  },
  {
   "cell_type": "code",
   "execution_count": 58,
   "metadata": {},
   "outputs": [
    {
     "name": "stdout",
     "output_type": "stream",
     "text": [
      "[[37 40]\n",
      " [85 92]]\n",
      "\n",
      "[16  6  8]\n"
     ]
    }
   ],
   "source": [
    "a = np.array([[1,2],[3,4]]) \n",
    "b = np.array([[11,12],[13,14]]) \n",
    "print(np.dot(a,b))  #np.dot is used for matrix-vector multilplication  # [[37 40]\n",
    "                                                                       #  [85 92]]\n",
    "    \n",
    "print()    \n",
    "a = np.array([[ 5, 1 ,3], \n",
    "              [ 1, 1 ,1], \n",
    "              [ 1, 2 ,1]])\n",
    "b = np.array([1, 2, 3])\n",
    "print(np.dot(a,b)) #np.dot is used for matrix-vector multilplication   # [16  6  8]"
   ]
  },
  {
   "cell_type": "markdown",
   "metadata": {},
   "source": [
    "<a id=\"section_4.3\"></a>\n",
    "\n",
    "### Computation on arrays"
   ]
  },
  {
   "cell_type": "code",
   "execution_count": 59,
   "metadata": {},
   "outputs": [
    {
     "name": "stdout",
     "output_type": "stream",
     "text": [
      "[[1 2]\n",
      " [3 4]]\n",
      "\n",
      "10\n",
      "\n",
      "[4 6]\n",
      "\n",
      "[3 7]\n",
      "\n",
      "[[1 3]\n",
      " [2 4]]\n",
      "\n",
      "[[1 3]\n",
      " [2 4]]\n",
      "\n",
      "[ 1  2  3 -7]\n",
      "\n",
      "[  1   1 -10]\n",
      "\n",
      "[[1 2 3]\n",
      " [4 5 6]\n",
      " [7 8 9]]\n",
      "\n",
      "[ 4.  5.  6.]\n",
      "\n",
      "[ 2.  5.  8.]\n"
     ]
    }
   ],
   "source": [
    "x = np.array([[1,2],[3,4]])\n",
    "print(x)  # [[1 2]\n",
    "          #  [3 4]]\n",
    "\n",
    "#Sum of all elements of an array\n",
    "print()\n",
    "print(np.sum(x)) # 10\n",
    "\n",
    "#Sum of all columns of an array\n",
    "print()\n",
    "print(np.sum(x, axis=0))  # [4 6]\n",
    "\n",
    "#Sum of all rows of an array\n",
    "print()\n",
    "print(np.sum(x, axis=1))  # [3 7]\n",
    "\n",
    "#Transpose of a matrix\n",
    "print()\n",
    "print(x.T)   # [[1 3]\n",
    "             #  [2 4]]\n",
    "\n",
    "print()\n",
    "print(np.transpose(x))  # [[1 3]\n",
    "                        # [2 4]]\n",
    "    \n",
    "#Calculate the n-th discrete difference along the given axis\n",
    "x = np.array([1, 2, 4, 7, 0])\n",
    "print()\n",
    "print(np.diff(x)) # [ 1  2  3 -7]\n",
    "\n",
    "print()\n",
    "print(np.diff(x, n=2)) # [  1   1 -10]\n",
    "print()\n",
    "\n",
    "#Compute the arithmetic mean along the specified axis\n",
    "x = np.array([[1,2,3],[4,5,6],[7,8,9]])\n",
    "print(x)   # [[1 2 3]\n",
    "           #  [4 5 6]\n",
    "           #  [7 8 9]]\n",
    "print()\n",
    "\n",
    "# Computing mean along the columns\n",
    "print(x.mean(axis = 0))  # [12 15 18]\n",
    "\n",
    "print()\n",
    "\n",
    "# Computing mean along the rows\n",
    "print(x.mean(axis = 1)) # [ 6 15 24]"
   ]
  },
  {
   "cell_type": "markdown",
   "metadata": {},
   "source": [
    "<a id=\"section_4.4\"></a>\n",
    "\n",
    "### Padding\n",
    "\n",
    "See [np.pad()](https://docs.scipy.org/doc/numpy/reference/generated/numpy.pad.html)"
   ]
  },
  {
   "cell_type": "code",
   "execution_count": 60,
   "metadata": {},
   "outputs": [],
   "source": [
    "### Rank-1 array\n",
    "a = np.array([1, 2, 3, 4, 5])"
   ]
  },
  {
   "cell_type": "code",
   "execution_count": 61,
   "metadata": {},
   "outputs": [
    {
     "data": {
      "text/plain": [
       "array([4, 4, 1, 2, 3, 4, 5, 6, 6, 6])"
      ]
     },
     "execution_count": 61,
     "metadata": {},
     "output_type": "execute_result"
    }
   ],
   "source": [
    "np.pad(a, (2, 3), 'constant', constant_values=(4, 6))"
   ]
  },
  {
   "cell_type": "code",
   "execution_count": 62,
   "metadata": {},
   "outputs": [
    {
     "data": {
      "text/plain": [
       "array([1, 1, 1, 2, 3, 4, 5, 5, 5, 5])"
      ]
     },
     "execution_count": 62,
     "metadata": {},
     "output_type": "execute_result"
    }
   ],
   "source": [
    "np.pad(a, (2, 3), 'edge')"
   ]
  },
  {
   "cell_type": "code",
   "execution_count": 63,
   "metadata": {},
   "outputs": [],
   "source": [
    "### Rank-2 array\n",
    "a = np.array([[1, 2], [3, 4]])"
   ]
  },
  {
   "cell_type": "code",
   "execution_count": 64,
   "metadata": {},
   "outputs": [
    {
     "data": {
      "text/plain": [
       "array([[1, 1, 1, 2, 1, 1, 1],\n",
       "       [1, 1, 1, 2, 1, 1, 1],\n",
       "       [1, 1, 1, 2, 1, 1, 1],\n",
       "       [1, 1, 1, 2, 1, 1, 1],\n",
       "       [3, 3, 3, 4, 3, 3, 3],\n",
       "       [1, 1, 1, 2, 1, 1, 1],\n",
       "       [1, 1, 1, 2, 1, 1, 1]])"
      ]
     },
     "execution_count": 64,
     "metadata": {},
     "output_type": "execute_result"
    }
   ],
   "source": [
    "np.pad(a, ((3, 2), (2, 3)), 'minimum')"
   ]
  },
  {
   "cell_type": "markdown",
   "metadata": {},
   "source": [
    "<a id=\"section_4.5\"></a>\n",
    "\n",
    "### Clipping elements of an array\n",
    "\n",
    "See [np.clip()](https://docs.scipy.org/doc/numpy-1.13.0/reference/generated/numpy.clip.html)"
   ]
  },
  {
   "cell_type": "code",
   "execution_count": 65,
   "metadata": {},
   "outputs": [
    {
     "data": {
      "text/plain": [
       "array([0, 1, 2, 3, 4, 5, 6, 7, 8, 9])"
      ]
     },
     "execution_count": 65,
     "metadata": {},
     "output_type": "execute_result"
    }
   ],
   "source": [
    "a = np.arange(10)\n",
    "a"
   ]
  },
  {
   "cell_type": "markdown",
   "metadata": {},
   "source": [
    "Clips (limits) the values in ** array a** between intervals **min (=1)** and **max (=8)** and place the **output array** in **a**"
   ]
  },
  {
   "cell_type": "code",
   "execution_count": 66,
   "metadata": {},
   "outputs": [
    {
     "data": {
      "text/plain": [
       "array([1, 1, 2, 3, 4, 5, 6, 7, 8, 8])"
      ]
     },
     "execution_count": 66,
     "metadata": {},
     "output_type": "execute_result"
    }
   ],
   "source": [
    "np.clip(a, 1, 8, out=a)"
   ]
  },
  {
   "cell_type": "markdown",
   "metadata": {},
   "source": [
    "<a id=\"section_4.6\"></a>\n",
    "\n",
    "### Flattening of an array"
   ]
  },
  {
   "cell_type": "code",
   "execution_count": 67,
   "metadata": {},
   "outputs": [
    {
     "data": {
      "text/plain": [
       "array([[1, 2, 3],\n",
       "       [4, 5, 6]])"
      ]
     },
     "execution_count": 67,
     "metadata": {},
     "output_type": "execute_result"
    }
   ],
   "source": [
    "x = np.array([[1, 2, 3], [4, 5, 6]])\n",
    "x"
   ]
  },
  {
   "cell_type": "markdown",
   "metadata": {},
   "source": [
    "See [np.ravel()](https://docs.scipy.org/doc/numpy/reference/generated/numpy.ravel.html)"
   ]
  },
  {
   "cell_type": "code",
   "execution_count": 68,
   "metadata": {},
   "outputs": [
    {
     "data": {
      "text/plain": [
       "array([1, 2, 3, 4, 5, 6])"
      ]
     },
     "execution_count": 68,
     "metadata": {},
     "output_type": "execute_result"
    }
   ],
   "source": [
    "np.ravel(x)"
   ]
  },
  {
   "cell_type": "markdown",
   "metadata": {},
   "source": [
    "See [np.reshape()](https://docs.scipy.org/doc/numpy/reference/generated/numpy.reshape.html#numpy.reshape)"
   ]
  },
  {
   "cell_type": "code",
   "execution_count": 69,
   "metadata": {},
   "outputs": [
    {
     "data": {
      "text/plain": [
       "array([1, 2, 3, 4, 5, 6])"
      ]
     },
     "execution_count": 69,
     "metadata": {},
     "output_type": "execute_result"
    }
   ],
   "source": [
    "#Equivalently, we can also write\n",
    "x.reshape(-1)"
   ]
  },
  {
   "cell_type": "markdown",
   "metadata": {},
   "source": [
    "See [np.flatten()](https://docs.scipy.org/doc/numpy/reference/generated/numpy.ndarray.flatten.html#numpy.ndarray.flatten)\n",
    "\n",
    "See [np.flat()](https://docs.scipy.org/doc/numpy/reference/generated/numpy.ndarray.flat.html#numpy.ndarray.flat)"
   ]
  },
  {
   "cell_type": "code",
   "execution_count": 70,
   "metadata": {},
   "outputs": [
    {
     "data": {
      "text/plain": [
       "array([1, 2, 3, 4, 5, 6])"
      ]
     },
     "execution_count": 70,
     "metadata": {},
     "output_type": "execute_result"
    }
   ],
   "source": [
    "#np.flatten() in row major..can include (\"C\") as option, which is default\n",
    "x.flatten()"
   ]
  },
  {
   "cell_type": "code",
   "execution_count": 71,
   "metadata": {},
   "outputs": [
    {
     "data": {
      "text/plain": [
       "array([1, 4, 2, 5, 3, 6])"
      ]
     },
     "execution_count": 71,
     "metadata": {},
     "output_type": "execute_result"
    }
   ],
   "source": [
    "#np.flatten() in column major\n",
    "x.flatten(\"F\")"
   ]
  },
  {
   "cell_type": "markdown",
   "metadata": {},
   "source": [
    "<a id=\"section_4.7\"></a>\n",
    "\n",
    "### any() vs all()"
   ]
  },
  {
   "cell_type": "code",
   "execution_count": 72,
   "metadata": {},
   "outputs": [
    {
     "data": {
      "text/plain": [
       "True"
      ]
     },
     "execution_count": 72,
     "metadata": {},
     "output_type": "execute_result"
    }
   ],
   "source": [
    "#Test whether any array element along a given axis evaluates to True.\n",
    "np.any([[True, False], [True, True]])"
   ]
  },
  {
   "cell_type": "code",
   "execution_count": 73,
   "metadata": {},
   "outputs": [
    {
     "data": {
      "text/plain": [
       "array([ True, False], dtype=bool)"
      ]
     },
     "execution_count": 73,
     "metadata": {},
     "output_type": "execute_result"
    }
   ],
   "source": [
    "#Test whether all the elements along the column axis(axis=0) evaluates to True\n",
    "np.all([[True,False],[True,True]], axis=0)"
   ]
  },
  {
   "cell_type": "code",
   "execution_count": 1,
   "metadata": {},
   "outputs": [
    {
     "data": {
      "text/plain": [
       "False"
      ]
     },
     "execution_count": 1,
     "metadata": {},
     "output_type": "execute_result"
    }
   ],
   "source": [
    "all(x > 2 for x in [2, 0, 1, 5])"
   ]
  },
  {
   "cell_type": "code",
   "execution_count": 75,
   "metadata": {},
   "outputs": [
    {
     "data": {
      "text/plain": [
       "True"
      ]
     },
     "execution_count": 75,
     "metadata": {},
     "output_type": "execute_result"
    }
   ],
   "source": [
    "lst = [20, 300 , 50, -10, 60]\n",
    "all(np.abs(np.diff(lst)) < 500)"
   ]
  },
  {
   "cell_type": "markdown",
   "metadata": {},
   "source": [
    "<a id=\"section_4.8\"></a>\n",
    "\n",
    "### Array Manipulation"
   ]
  },
  {
   "cell_type": "code",
   "execution_count": 76,
   "metadata": {},
   "outputs": [
    {
     "name": "stdout",
     "output_type": "stream",
     "text": [
      "[[1 2 3]\n",
      " [2 3 4]\n",
      " [3 4 5]]\n",
      "\n",
      "[[2 3 4]\n",
      " [3 4 5]]\n",
      "\n",
      "[1 2 3]\n",
      "\n",
      "[[1]\n",
      " [2]\n",
      " [3]\n",
      " [2]\n",
      " [3]\n",
      " [4]]\n"
     ]
    }
   ],
   "source": [
    "#Stack arrays in sequence vertically (row wise)\n",
    "\n",
    "a = np.array([1, 2, 3]) # rank-1 array (3, )\n",
    "b = np.array([2, 3, 4]) # rank-1 array (3, )\n",
    "c = np.array([3, 4, 5]) # rank-1 array (3, )\n",
    "res = np.vstack((a,b,c))  \n",
    "\n",
    "print(res)  # [[1 2 3]\n",
    "            #  [2 3 4]]\n",
    "            #  [3 4 5]]\n",
    "\n",
    "\n",
    "print()\n",
    "\n",
    "print(np.vstack((a,b,c))[1:,:]) # Get the array of all the rows except the first row  # [[2 3 4]\n",
    "                                                                                      #  [3 4 5]]\n",
    "print()\n",
    "\n",
    "print(np.vstack((a,b,c))[0,:]) # Get the first row as an array  # [1 2 3]\n",
    "print()\n",
    "\n",
    "a = np.array([[1], [2], [3]]) # rank-2 array (3, 1)\n",
    "b = np.array([[2], [3], [4]]) # rank-2 array (3, 1)\n",
    "print(np.vstack((a,b)))  # [[1]\n",
    "                         #  [2]\n",
    "                         #  [3]\n",
    "                         #  [2]\n",
    "                         #  [3]\n",
    "                         #  [4]]"
   ]
  },
  {
   "cell_type": "code",
   "execution_count": 77,
   "metadata": {},
   "outputs": [
    {
     "name": "stdout",
     "output_type": "stream",
     "text": [
      "[1 2 3 2 3 4]\n",
      "[[1 2]\n",
      " [2 3]\n",
      " [3 4]]\n"
     ]
    }
   ],
   "source": [
    "#Stack arrays in sequence horizontally (column wise)\n",
    "\n",
    "a = np.array((1, 2, 3)) # rank-1 array (3, )\n",
    "b = np.array((2, 3, 4)) # rank-1 array (3, )\n",
    "print(np.hstack((a,b)))  # [1 2 3 2 3 4]\n",
    "\n",
    "a = np.array([[1],[2],[3]]) # rank-2 array (3, 1)\n",
    "b = np.array([[2],[3],[4]]) # rank-2 array (3, 1)\n",
    "print(np.hstack((a,b)))  # [[1 2]\n",
    "                         #  [2 3]\n",
    "                         #  [3 4]]"
   ]
  },
  {
   "cell_type": "markdown",
   "metadata": {},
   "source": [
    "<a id=\"section_5\"></a>\n",
    "\n",
    "## Constants"
   ]
  },
  {
   "cell_type": "code",
   "execution_count": 78,
   "metadata": {},
   "outputs": [
    {
     "data": {
      "text/plain": [
       "inf"
      ]
     },
     "execution_count": 78,
     "metadata": {},
     "output_type": "execute_result"
    }
   ],
   "source": [
    "#IEEE 754 floating point representation of (positive) infinity.\n",
    "np.inf"
   ]
  },
  {
   "cell_type": "code",
   "execution_count": 79,
   "metadata": {},
   "outputs": [
    {
     "data": {
      "text/plain": [
       "nan"
      ]
     },
     "execution_count": 79,
     "metadata": {},
     "output_type": "execute_result"
    }
   ],
   "source": [
    "#NumPy uses the IEEE Standard for Binary Floating-Point for Arithmetic (IEEE 754). \n",
    "#This means that Not a Number is not equivalent to infinity.\n",
    "np.nan"
   ]
  },
  {
   "cell_type": "markdown",
   "metadata": {},
   "source": [
    "<a id=\"section_6\"></a>\n",
    "\n",
    "## Linear Algebra"
   ]
  },
  {
   "cell_type": "code",
   "execution_count": 80,
   "metadata": {},
   "outputs": [
    {
     "name": "stdout",
     "output_type": "stream",
     "text": [
      "-2.0\n"
     ]
    }
   ],
   "source": [
    "#Computing the determinant of a square matrix\n",
    "x = np.array([[1, 2], [3, 4]])\n",
    "print(np.linalg.det(x))"
   ]
  },
  {
   "cell_type": "code",
   "execution_count": 81,
   "metadata": {},
   "outputs": [
    {
     "name": "stdout",
     "output_type": "stream",
     "text": [
      "[ 2.  3.]\n"
     ]
    }
   ],
   "source": [
    "#Solving a linear matrix equation, or system of linear scalar equations Ax = b\n",
    "a = np.array([[3,1], [1,2]])\n",
    "b = np.array([9,8])\n",
    "x = np.linalg.solve(a, b)\n",
    "print(x)"
   ]
  },
  {
   "cell_type": "markdown",
   "metadata": {},
   "source": [
    "#### Note : Difference between (Moore-Penrose) pseudo-inverse `np.linalg.pinv` and inverse `np.linalg.inv` of a matrix \n",
    "\n",
    "If the determinant of the matrix is zero, it will not have an inverse and your `np.linalg.inv` function will not work. This usually happens if your matrix is singular. \n",
    "\n",
    "`np.linalg.pinv` will compute the inverse irrespective of whether the matrix is singular or not. This is because pinv returns the inverse of your matrix when it is available and the pseudo inverse when it isn't. It is recommended to use `pinv` instead of `inv`"
   ]
  },
  {
   "cell_type": "code",
   "execution_count": 82,
   "metadata": {},
   "outputs": [
    {
     "name": "stdout",
     "output_type": "stream",
     "text": [
      "[[ -6.38888889e-01  -1.66666667e-01   3.05555556e-01]\n",
      " [ -5.55555556e-02   1.59594560e-16   5.55555556e-02]\n",
      " [  5.27777778e-01   1.66666667e-01  -1.94444444e-01]]\n",
      "\n",
      "[[  3.15251974e+15  -6.30503948e+15   3.15251974e+15]\n",
      " [ -6.30503948e+15   1.26100790e+16  -6.30503948e+15]\n",
      " [  3.15251974e+15  -6.30503948e+15   3.15251974e+15]]\n"
     ]
    }
   ],
   "source": [
    "#Compute the Moore-Penrose pseudo-inverse of a matrix\n",
    "x = np.matrix([[1, 2, 3],\n",
    "               [4, 5, 6],\n",
    "               [7, 8, 9]])\n",
    "\n",
    "print(np.linalg.pinv(x))   # [[ -6.38888889e-01  -1.66666667e-01   3.05555556e-01]\n",
    "                           #  [ -5.55555556e-02   1.59594560e-16   5.55555556e-02]\n",
    "                           #  [  5.27777778e-01   1.66666667e-01  -1.94444444e-01]]\n",
    "\n",
    "print()\n",
    "#We can also calculate the inverse of a matrix\n",
    "print(np.linalg.inv(x))    # [[  3.15251974e+15  -6.30503948e+15   3.15251974e+15]\n",
    "                           #  [ -6.30503948e+15   1.26100790e+16  -6.30503948e+15]\n",
    "                           #  [  3.15251974e+15  -6.30503948e+15   3.15251974e+15]]"
   ]
  },
  {
   "cell_type": "code",
   "execution_count": 83,
   "metadata": {},
   "outputs": [
    {
     "name": "stdout",
     "output_type": "stream",
     "text": [
      "[ 1.  2.  3.]\n",
      "\n",
      "[[ 1.  0.  0.]\n",
      " [ 0.  1.  0.]\n",
      " [ 0.  0.  1.]]\n"
     ]
    }
   ],
   "source": [
    "#Compute the eigenvalues and right eigenvectors of a square array.\n",
    "w, v = np.linalg.eig(np.diag((1, 2, 3)))\n",
    "\n",
    "# Eigen values\n",
    "print(w) # [ 1.  2.  3.]\n",
    "\n",
    "print()\n",
    "\n",
    "# Eigen vectors\n",
    "print(v) # [[ 1.  0.  0.]\n",
    "         #  [ 0.  1.  0.]\n",
    "         #  [ 0.  0.  1.]]"
   ]
  },
  {
   "cell_type": "code",
   "execution_count": 14,
   "metadata": {},
   "outputs": [],
   "source": [
    "# Singular Value Decomposition\n",
    "\n",
    "# Factors the matrix a as u * np.diag(s) * v, where u and v are unitary and s is a 1-d array of a‘s singular values.\n",
    "\n",
    "# u, Unitary matrices. The actual shape depends on the value of full_matrices. Only returned when compute_uv is True.\n",
    "\n",
    "# s, The singular values for every matrix, sorted in descending order.\n",
    "\n",
    "# v, Unitary matrices. The actual shape depends on the value of full_matrices. Only returned when compute_uv is True.\n",
    "\n",
    "x = np.random.randn(9, 6) + 1j*np.random.randn(9, 6)\n",
    "U, s, V = np.linalg.svd(x, full_matrices=True)"
   ]
  },
  {
   "cell_type": "markdown",
   "metadata": {},
   "source": [
    "## References\n",
    "\n",
    "http://cs231n.github.io/python-numpy-tutorial/#numpy-arrays\n",
    "\n",
    "https://docs.scipy.org/doc/numpy/reference/routines.math.html"
   ]
  }
 ],
 "metadata": {
  "kernelspec": {
   "display_name": "Python 3",
   "language": "python",
   "name": "python3"
  },
  "language_info": {
   "codemirror_mode": {
    "name": "ipython",
    "version": 3
   },
   "file_extension": ".py",
   "mimetype": "text/x-python",
   "name": "python",
   "nbconvert_exporter": "python",
   "pygments_lexer": "ipython3",
   "version": "3.6.7"
  }
 },
 "nbformat": 4,
 "nbformat_minor": 2
}
